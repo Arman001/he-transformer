{
 "cells": [
  {
   "cell_type": "code",
   "execution_count": 1,
   "metadata": {},
   "outputs": [],
   "source": [
    "import numpy as np\n",
    "import matplotlib.pyplot as plt\n",
    "from matplotlib.ticker import ScalarFormatter\n",
    "import re\n",
    "%matplotlib inline"
   ]
  },
  {
   "cell_type": "code",
   "execution_count": 2,
   "metadata": {},
   "outputs": [],
   "source": [
    "def parse_results_from_file(file_name):\n",
    "\n",
    "    poly_modulus_regex = r'.*poly_modulus: (.*)'\n",
    "    load_model_regex = r'.*sw_load_model: (.*)ms'\n",
    "    encrypt_input_regex = r'.*sw_encrypt_input: (.*)ms'\n",
    "    run_model_regex = r'.*sw_run_model: (.*)ms'\n",
    "    decrypt_output_regex = r'.*sw_decrypt_output: (.*)ms'\n",
    "    global_regex = r'.*sw_global: (.*)ms'\n",
    "    batch_size_regex = r'.*of (.*) elements'\n",
    "\n",
    "    runtimes = []\n",
    "    poly_modulus = None\n",
    "    load_model = None\n",
    "    encrypt_input = None\n",
    "    run_model = None\n",
    "    decrypt_output = None\n",
    "    global_time = None\n",
    "    batch_size = None\n",
    "\n",
    "    batch_size_count = 0\n",
    "    with open(file_name) as f:\n",
    "        lines = [line.strip() for line in f.readlines()]\n",
    "        for line in lines:\n",
    "            if re.match(poly_modulus_regex, line):\n",
    "                match = re.match(poly_modulus_regex, line)\n",
    "                poly_modulus = int(match.groups()[0])\n",
    "            elif re.match(load_model_regex, line):\n",
    "                match = re.match(load_model_regex, line)\n",
    "                load_model = int(match.groups()[0])  \n",
    "            elif re.match(encrypt_input_regex, line):\n",
    "                match = re.match(encrypt_input_regex, line)\n",
    "                encrypt_input = int(match.groups()[0])  \n",
    "            elif re.match(run_model_regex, line):\n",
    "                match = re.match(run_model_regex, line)\n",
    "                run_model = int(match.groups()[0])\n",
    "            elif re.match(decrypt_output_regex, line):\n",
    "                match = re.match(decrypt_output_regex, line)\n",
    "                decrypt_output = int(match.groups()[0])\n",
    "            elif re.match(global_regex, line):\n",
    "                match = re.match(global_regex, line)\n",
    "                global_time = int(match.groups()[0])\n",
    "            elif re.match(batch_size_regex, line):\n",
    "                match = re.match(batch_size_regex, line)\n",
    "                batch_size = int(match.groups()[0])\n",
    "\n",
    "                batch_size_count += 1\n",
    "\n",
    "                # Skip warmup:\n",
    "                if batch_size_count > 1:\n",
    "                    runtime_tuple = (poly_modulus, batch_size, encrypt_input, run_model, decrypt_output, global_time)\n",
    "                    \n",
    "                    print('File: ', file_name, \" n: \", poly_modulus, \"batch_size: \", batch_size, (encrypt_input, run_model, decrypt_output, global_time))\n",
    "                    runtimes.append(runtime_tuple)                \n",
    "                \n",
    "    return runtimes"
   ]
  },
  {
   "cell_type": "code",
   "execution_count": 370,
   "metadata": {},
   "outputs": [
    {
     "name": "stdout",
     "output_type": "stream",
     "text": [
      "File:  exp13_0.txt  n:  8192 batch_size:  1 (171, 23963, 139, 24358)\n",
      "File:  exp13_0.txt  n:  8192 batch_size:  2 (171, 23629, 110, 23997)\n",
      "File:  exp13_0.txt  n:  8192 batch_size:  4 (267, 22956, 98, 23410)\n",
      "File:  exp13_0.txt  n:  8192 batch_size:  8 (188, 23112, 105, 23492)\n",
      "File:  exp13_0.txt  n:  8192 batch_size:  16 (184, 23434, 151, 23854)\n",
      "File:  exp13_0.txt  n:  8192 batch_size:  32 (219, 22430, 98, 22837)\n",
      "File:  exp13_0.txt  n:  8192 batch_size:  64 (199, 22686, 133, 23104)\n",
      "File:  exp13_0.txt  n:  8192 batch_size:  128 (233, 22837, 113, 23273)\n",
      "File:  exp13_0.txt  n:  8192 batch_size:  256 (194, 22725, 120, 23128)\n",
      "File:  exp13_0.txt  n:  8192 batch_size:  512 (182, 23234, 102, 23604)\n",
      "File:  exp13_0.txt  n:  8192 batch_size:  1024 (192, 22984, 120, 23383)\n",
      "File:  exp13_0.txt  n:  8192 batch_size:  2048 (187, 22486, 137, 22899)\n",
      "File:  exp13_0.txt  n:  8192 batch_size:  4096 (230, 22387, 138, 22843)\n",
      "File:  exp13_1.txt  n:  8192 batch_size:  1 (198, 23266, 143, 23696)\n",
      "File:  exp13_1.txt  n:  8192 batch_size:  2 (260, 22719, 130, 23196)\n",
      "File:  exp13_1.txt  n:  8192 batch_size:  4 (256, 22444, 99, 22887)\n",
      "File:  exp13_1.txt  n:  8192 batch_size:  8 (181, 22630, 134, 23037)\n",
      "File:  exp13_1.txt  n:  8192 batch_size:  16 (177, 22974, 95, 23339)\n",
      "File:  exp13_1.txt  n:  8192 batch_size:  32 (190, 22599, 104, 22986)\n",
      "File:  exp13_1.txt  n:  8192 batch_size:  64 (200, 22652, 125, 23069)\n",
      "File:  exp13_1.txt  n:  8192 batch_size:  128 (186, 23404, 105, 23783)\n",
      "File:  exp13_1.txt  n:  8192 batch_size:  256 (196, 23574, 100, 23958)\n",
      "File:  exp13_1.txt  n:  8192 batch_size:  512 (202, 22910, 117, 23318)\n",
      "File:  exp13_1.txt  n:  8192 batch_size:  1024 (234, 23533, 136, 23997)\n",
      "File:  exp13_1.txt  n:  8192 batch_size:  2048 (369, 22991, 102, 23548)\n",
      "File:  exp13_1.txt  n:  8192 batch_size:  4096 (187, 22979, 103, 23361)\n",
      "File:  exp13_2.txt  n:  8192 batch_size:  1 (194, 23736, 146, 24165)\n",
      "File:  exp13_2.txt  n:  8192 batch_size:  2 (250, 22460, 118, 22916)\n",
      "File:  exp13_2.txt  n:  8192 batch_size:  4 (205, 22587, 121, 23004)\n",
      "File:  exp13_2.txt  n:  8192 batch_size:  8 (276, 22683, 110, 23166)\n",
      "File:  exp13_2.txt  n:  8192 batch_size:  16 (229, 22779, 118, 23220)\n",
      "File:  exp13_2.txt  n:  8192 batch_size:  32 (223, 22408, 107, 22826)\n",
      "File:  exp13_2.txt  n:  8192 batch_size:  64 (210, 22987, 113, 23398)\n",
      "File:  exp13_2.txt  n:  8192 batch_size:  128 (200, 22924, 133, 23350)\n",
      "File:  exp13_2.txt  n:  8192 batch_size:  256 (203, 23232, 138, 23659)\n",
      "File:  exp13_2.txt  n:  8192 batch_size:  512 (261, 22988, 117, 23466)\n",
      "File:  exp13_2.txt  n:  8192 batch_size:  1024 (203, 23330, 110, 23733)\n",
      "File:  exp13_2.txt  n:  8192 batch_size:  2048 (226, 22956, 96, 23372)\n",
      "File:  exp13_2.txt  n:  8192 batch_size:  4096 (185, 22897, 113, 23283)\n",
      "File:  exp13_3.txt  n:  8192 batch_size:  1 (170, 24987, 136, 25386)\n",
      "File:  exp13_3.txt  n:  8192 batch_size:  2 (250, 24238, 108, 24686)\n",
      "File:  exp13_3.txt  n:  8192 batch_size:  4 (222, 25048, 139, 25497)\n",
      "File:  exp13_3.txt  n:  8192 batch_size:  8 (180, 24502, 101, 24872)\n",
      "File:  exp13_3.txt  n:  8192 batch_size:  16 (183, 25016, 128, 25414)\n",
      "File:  exp13_3.txt  n:  8192 batch_size:  32 (204, 24613, 159, 25065)\n",
      "File:  exp13_3.txt  n:  8192 batch_size:  64 (207, 24420, 131, 24848)\n",
      "File:  exp13_3.txt  n:  8192 batch_size:  128 (227, 24576, 162, 25058)\n",
      "File:  exp13_3.txt  n:  8192 batch_size:  256 (190, 24335, 112, 24729)\n",
      "File:  exp13_3.txt  n:  8192 batch_size:  512 (179, 24154, 114, 24539)\n",
      "File:  exp13_3.txt  n:  8192 batch_size:  1024 (188, 23910, 117, 24307)\n",
      "File:  exp13_3.txt  n:  8192 batch_size:  2048 (230, 23437, 112, 23871)\n",
      "File:  exp13_3.txt  n:  8192 batch_size:  4096 (185, 23328, 147, 23749)\n",
      "File:  exp13_4.txt  n:  8192 batch_size:  1 (229, 25343, 140, 25802)\n",
      "File:  exp13_4.txt  n:  8192 batch_size:  2 (204, 25596, 134, 26026)\n",
      "File:  exp13_4.txt  n:  8192 batch_size:  4 (192, 24531, 116, 24933)\n",
      "File:  exp13_4.txt  n:  8192 batch_size:  8 (199, 25244, 116, 25651)\n",
      "File:  exp13_4.txt  n:  8192 batch_size:  16 (225, 24941, 127, 25386)\n",
      "File:  exp13_4.txt  n:  8192 batch_size:  32 (204, 24694, 103, 25091)\n",
      "File:  exp13_4.txt  n:  8192 batch_size:  64 (212, 25385, 124, 25813)\n",
      "File:  exp13_4.txt  n:  8192 batch_size:  128 (220, 25414, 156, 25876)\n",
      "File:  exp13_4.txt  n:  8192 batch_size:  256 (263, 24300, 100, 24749)\n",
      "File:  exp13_4.txt  n:  8192 batch_size:  512 (305, 24439, 112, 24947)\n",
      "File:  exp13_4.txt  n:  8192 batch_size:  1024 (200, 23971, 102, 24361)\n",
      "File:  exp13_4.txt  n:  8192 batch_size:  2048 (223, 23799, 174, 24284)\n",
      "File:  exp13_4.txt  n:  8192 batch_size:  4096 (258, 24016, 110, 24478)\n",
      "File:  exp13_5.txt  n:  8192 batch_size:  1 (169, 23915, 172, 24338)\n",
      "File:  exp13_5.txt  n:  8192 batch_size:  2 (292, 24767, 154, 25309)\n",
      "File:  exp13_5.txt  n:  8192 batch_size:  4 (196, 23322, 156, 23768)\n",
      "File:  exp13_5.txt  n:  8192 batch_size:  8 (221, 23301, 133, 23747)\n",
      "File:  exp13_5.txt  n:  8192 batch_size:  16 (206, 22972, 123, 23396)\n",
      "File:  exp13_5.txt  n:  8192 batch_size:  32 (197, 23551, 164, 24003)\n",
      "File:  exp13_5.txt  n:  8192 batch_size:  64 (258, 23565, 136, 24054)\n",
      "File:  exp13_5.txt  n:  8192 batch_size:  128 (177, 22605, 115, 22985)\n",
      "File:  exp13_5.txt  n:  8192 batch_size:  256 (255, 23816, 163, 24325)\n",
      "File:  exp13_5.txt  n:  8192 batch_size:  512 (197, 22947, 113, 23413)\n",
      "File:  exp13_5.txt  n:  8192 batch_size:  1024 (176, 23374, 101, 23744)\n",
      "File:  exp13_5.txt  n:  8192 batch_size:  2048 (202, 23060, 114, 23465)\n",
      "File:  exp13_5.txt  n:  8192 batch_size:  4096 (201, 22890, 121, 23297)\n",
      "File:  exp13_6.txt  n:  8192 batch_size:  1 (173, 23511, 109, 23881)\n",
      "File:  exp13_6.txt  n:  8192 batch_size:  2 (208, 23344, 98, 23739)\n",
      "File:  exp13_6.txt  n:  8192 batch_size:  4 (181, 23739, 109, 24114)\n",
      "File:  exp13_6.txt  n:  8192 batch_size:  8 (196, 23513, 127, 23924)\n",
      "File:  exp13_6.txt  n:  8192 batch_size:  16 (194, 22802, 130, 23213)\n",
      "File:  exp13_6.txt  n:  8192 batch_size:  32 (187, 23084, 146, 23502)\n",
      "File:  exp13_6.txt  n:  8192 batch_size:  64 (195, 23794, 118, 24192)\n",
      "File:  exp13_6.txt  n:  8192 batch_size:  128 (196, 23134, 144, 23560)\n",
      "File:  exp13_6.txt  n:  8192 batch_size:  256 (203, 23397, 127, 23814)\n",
      "File:  exp13_6.txt  n:  8192 batch_size:  512 (183, 23306, 137, 23711)\n",
      "File:  exp13_6.txt  n:  8192 batch_size:  1024 (216, 22874, 106, 23285)\n",
      "File:  exp13_6.txt  n:  8192 batch_size:  2048 (239, 22778, 119, 23224)\n",
      "File:  exp13_6.txt  n:  8192 batch_size:  4096 (187, 23430, 108, 23809)\n",
      "File:  exp13_7.txt  n:  8192 batch_size:  1 (175, 23566, 112, 23944)\n",
      "File:  exp13_7.txt  n:  8192 batch_size:  2 (199, 23249, 129, 23668)\n",
      "File:  exp13_7.txt  n:  8192 batch_size:  4 (181, 22938, 146, 23349)\n",
      "File:  exp13_7.txt  n:  8192 batch_size:  8 (179, 22387, 108, 22761)\n",
      "File:  exp13_7.txt  n:  8192 batch_size:  16 (199, 22403, 104, 22792)\n",
      "File:  exp13_7.txt  n:  8192 batch_size:  32 (187, 23144, 147, 23565)\n",
      "File:  exp13_7.txt  n:  8192 batch_size:  64 (238, 22681, 124, 23133)\n",
      "File:  exp13_7.txt  n:  8192 batch_size:  128 (190, 22712, 100, 23090)\n",
      "File:  exp13_7.txt  n:  8192 batch_size:  256 (179, 22676, 141, 23087)\n",
      "File:  exp13_7.txt  n:  8192 batch_size:  512 (192, 22616, 128, 23023)\n",
      "File:  exp13_7.txt  n:  8192 batch_size:  1024 (220, 22748, 124, 23183)\n",
      "File:  exp13_7.txt  n:  8192 batch_size:  2048 (188, 22900, 132, 23309)\n",
      "File:  exp13_7.txt  n:  8192 batch_size:  4096 (241, 22649, 141, 23123)\n",
      "File:  exp13_8.txt  n:  8192 batch_size:  1 (288, 24646, 111, 25134)\n",
      "File:  exp13_8.txt  n:  8192 batch_size:  2 (192, 23757, 111, 24151)\n",
      "File:  exp13_8.txt  n:  8192 batch_size:  4 (220, 23625, 146, 24090)\n",
      "File:  exp13_8.txt  n:  8192 batch_size:  8 (211, 23092, 112, 23502)\n",
      "File:  exp13_8.txt  n:  8192 batch_size:  16 (184, 23184, 129, 23583)\n",
      "File:  exp13_8.txt  n:  8192 batch_size:  32 (191, 23994, 144, 24419)\n",
      "File:  exp13_8.txt  n:  8192 batch_size:  64 (191, 23716, 108, 24103)\n",
      "File:  exp13_8.txt  n:  8192 batch_size:  128 (203, 23000, 125, 23419)\n",
      "File:  exp13_8.txt  n:  8192 batch_size:  256 (189, 23401, 148, 23825)\n",
      "File:  exp13_8.txt  n:  8192 batch_size:  512 (203, 22866, 110, 23266)\n",
      "File:  exp13_8.txt  n:  8192 batch_size:  1024 (210, 23614, 128, 24043)\n",
      "File:  exp13_8.txt  n:  8192 batch_size:  2048 (276, 23344, 103, 23815)\n",
      "File:  exp13_8.txt  n:  8192 batch_size:  4096 (178, 23528, 114, 23911)\n",
      "File:  exp13_9.txt  n:  8192 batch_size:  1 (155, 25411, 110, 25767)\n",
      "File:  exp13_9.txt  n:  8192 batch_size:  2 (273, 24253, 142, 24755)\n",
      "File:  exp13_9.txt  n:  8192 batch_size:  4 (194, 24040, 139, 24460)\n",
      "File:  exp13_9.txt  n:  8192 batch_size:  8 (194, 23648, 107, 24051)\n",
      "File:  exp13_9.txt  n:  8192 batch_size:  16 (189, 23296, 104, 23673)\n",
      "File:  exp13_9.txt  n:  8192 batch_size:  32 (212, 23819, 111, 24230)\n",
      "File:  exp13_9.txt  n:  8192 batch_size:  64 (191, 23889, 111, 24279)\n",
      "File:  exp13_9.txt  n:  8192 batch_size:  128 (201, 23227, 101, 23617)\n",
      "File:  exp13_9.txt  n:  8192 batch_size:  256 (199, 23844, 113, 24246)\n",
      "File:  exp13_9.txt  n:  8192 batch_size:  512 (193, 24776, 130, 25192)\n",
      "File:  exp13_9.txt  n:  8192 batch_size:  1024 (204, 23827, 114, 24226)\n",
      "File:  exp13_9.txt  n:  8192 batch_size:  2048 (194, 23817, 132, 24230)\n",
      "File:  exp13_9.txt  n:  8192 batch_size:  4096 (195, 23966, 147, 24397)\n",
      "File:  exp14_0.txt  n:  16384 batch_size:  1 (324, 60901, 403, 61712)\n",
      "File:  exp14_0.txt  n:  16384 batch_size:  2 (343, 58626, 491, 59546)\n",
      "File:  exp14_0.txt  n:  16384 batch_size:  4 (307, 59987, 368, 60762)\n",
      "File:  exp14_0.txt  n:  16384 batch_size:  8 (364, 60922, 647, 62016)\n",
      "File:  exp14_0.txt  n:  16384 batch_size:  16 (320, 60443, 609, 61470)\n",
      "File:  exp14_0.txt  n:  16384 batch_size:  32 (320, 59849, 343, 60601)\n",
      "File:  exp14_0.txt  n:  16384 batch_size:  64 (307, 59810, 611, 60828)\n",
      "File:  exp14_0.txt  n:  16384 batch_size:  128 (336, 57920, 322, 58665)\n",
      "File:  exp14_0.txt  n:  16384 batch_size:  256 (302, 59292, 601, 60286)\n",
      "File:  exp14_0.txt  n:  16384 batch_size:  512 (365, 58860, 592, 59905)\n",
      "File:  exp14_0.txt  n:  16384 batch_size:  1024 (340, 58280, 470, 59177)\n",
      "File:  exp14_0.txt  n:  16384 batch_size:  2048 (325, 58598, 326, 59341)\n",
      "File:  exp14_0.txt  n:  16384 batch_size:  4096 (308, 60122, 323, 60843)\n",
      "File:  exp14_1.txt  n:  16384 batch_size:  1 (282, 57977, 513, 58852)\n",
      "File:  exp14_1.txt  n:  16384 batch_size:  2 (298, 57741, 483, 58611)\n",
      "File:  exp14_1.txt  n:  16384 batch_size:  4 (354, 57876, 572, 58883)\n",
      "File:  exp14_1.txt  n:  16384 batch_size:  8 (366, 58504, 395, 59350)\n",
      "File:  exp14_1.txt  n:  16384 batch_size:  16 (453, 57945, 607, 59089)\n",
      "File:  exp14_1.txt  n:  16384 batch_size:  32 (356, 57577, 615, 58636)\n",
      "File:  exp14_1.txt  n:  16384 batch_size:  64 (388, 57515, 327, 58311)\n",
      "File:  exp14_1.txt  n:  16384 batch_size:  128 (375, 57694, 620, 58775)\n",
      "File:  exp14_1.txt  n:  16384 batch_size:  256 (317, 58838, 550, 59787)\n",
      "File:  exp14_1.txt  n:  16384 batch_size:  512 (345, 58750, 352, 59533)\n",
      "File:  exp14_1.txt  n:  16384 batch_size:  1024 (384, 58760, 590, 59822)\n",
      "File:  exp14_1.txt  n:  16384 batch_size:  2048 (301, 58892, 553, 59838)\n",
      "File:  exp14_1.txt  n:  16384 batch_size:  4096 (333, 58928, 609, 59962)\n",
      "File:  exp14_2.txt  n:  16384 batch_size:  1 (342, 68179, 617, 69219)\n",
      "File:  exp14_2.txt  n:  16384 batch_size:  2 (306, 65393, 648, 66452)\n",
      "File:  exp14_2.txt  n:  16384 batch_size:  4 (407, 63749, 508, 64757)\n",
      "File:  exp14_2.txt  n:  16384 batch_size:  8 (312, 65131, 255, 65789)\n",
      "File:  exp14_2.txt  n:  16384 batch_size:  16 (477, 68961, 485, 70014)\n",
      "File:  exp14_2.txt  n:  16384 batch_size:  32 (345, 65211, 546, 66187)\n",
      "File:  exp14_2.txt  n:  16384 batch_size:  64 (326, 64945, 673, 66032)\n",
      "File:  exp14_2.txt  n:  16384 batch_size:  128 (367, 64702, 680, 65830)\n",
      "File:  exp14_2.txt  n:  16384 batch_size:  256 (361, 64789, 321, 65556)\n"
     ]
    },
    {
     "name": "stdout",
     "output_type": "stream",
     "text": [
      "File:  exp14_2.txt  n:  16384 batch_size:  512 (336, 64624, 460, 65504)\n",
      "File:  exp14_2.txt  n:  16384 batch_size:  1024 (328, 65029, 483, 65928)\n",
      "File:  exp14_2.txt  n:  16384 batch_size:  2048 (357, 65038, 476, 65955)\n",
      "File:  exp14_2.txt  n:  16384 batch_size:  4096 (326, 64495, 651, 65564)\n",
      "File:  exp14_3.txt  n:  16384 batch_size:  1 (321, 59604, 359, 60370)\n",
      "File:  exp14_3.txt  n:  16384 batch_size:  2 (324, 59271, 635, 60319)\n",
      "File:  exp14_3.txt  n:  16384 batch_size:  4 (348, 58624, 510, 59573)\n",
      "File:  exp14_3.txt  n:  16384 batch_size:  8 (316, 57235, 401, 58040)\n",
      "File:  exp14_3.txt  n:  16384 batch_size:  16 (347, 58226, 337, 59003)\n",
      "File:  exp14_3.txt  n:  16384 batch_size:  32 (363, 57571, 293, 58316)\n",
      "File:  exp14_3.txt  n:  16384 batch_size:  64 (291, 58609, 473, 59465)\n",
      "File:  exp14_3.txt  n:  16384 batch_size:  128 (322, 57727, 632, 58765)\n",
      "File:  exp14_3.txt  n:  16384 batch_size:  256 (306, 58401, 633, 59428)\n",
      "File:  exp14_3.txt  n:  16384 batch_size:  512 (299, 58875, 613, 59877)\n",
      "File:  exp14_3.txt  n:  16384 batch_size:  1024 (342, 58295, 583, 59305)\n",
      "File:  exp14_3.txt  n:  16384 batch_size:  2048 (395, 58829, 617, 59930)\n",
      "File:  exp14_3.txt  n:  16384 batch_size:  4096 (336, 57348, 633, 58407)\n",
      "File:  exp14_4.txt  n:  16384 batch_size:  1 (291, 58642, 595, 59619)\n",
      "File:  exp14_4.txt  n:  16384 batch_size:  2 (362, 56824, 461, 57734)\n",
      "File:  exp14_4.txt  n:  16384 batch_size:  4 (363, 59163, 320, 59930)\n",
      "File:  exp14_4.txt  n:  16384 batch_size:  8 (430, 57770, 396, 58681)\n",
      "File:  exp14_4.txt  n:  16384 batch_size:  16 (326, 57198, 331, 57942)\n",
      "File:  exp14_4.txt  n:  16384 batch_size:  32 (349, 57304, 445, 58183)\n",
      "File:  exp14_4.txt  n:  16384 batch_size:  64 (332, 57271, 642, 58333)\n",
      "File:  exp14_4.txt  n:  16384 batch_size:  128 (304, 57749, 583, 58723)\n",
      "File:  exp14_4.txt  n:  16384 batch_size:  256 (339, 57255, 615, 58297)\n",
      "File:  exp14_4.txt  n:  16384 batch_size:  512 (356, 57543, 464, 58452)\n",
      "File:  exp14_4.txt  n:  16384 batch_size:  1024 (323, 57211, 585, 58209)\n",
      "File:  exp14_4.txt  n:  16384 batch_size:  2048 (370, 57176, 611, 58240)\n",
      "File:  exp14_4.txt  n:  16384 batch_size:  4096 (342, 57154, 585, 58169)\n",
      "File:  exp14_5.txt  n:  16384 batch_size:  1 (290, 61185, 569, 62132)\n",
      "File:  exp14_5.txt  n:  16384 batch_size:  2 (311, 58221, 244, 58866)\n",
      "File:  exp14_5.txt  n:  16384 batch_size:  4 (522, 59099, 444, 60151)\n",
      "File:  exp14_5.txt  n:  16384 batch_size:  8 (313, 61168, 587, 62156)\n",
      "File:  exp14_5.txt  n:  16384 batch_size:  16 (321, 58981, 334, 59718)\n",
      "File:  exp14_5.txt  n:  16384 batch_size:  32 (462, 58643, 403, 59593)\n",
      "File:  exp14_5.txt  n:  16384 batch_size:  64 (480, 57047, 633, 58245)\n",
      "File:  exp14_5.txt  n:  16384 batch_size:  128 (445, 57802, 598, 58935)\n",
      "File:  exp14_5.txt  n:  16384 batch_size:  256 (357, 60723, 355, 61522)\n",
      "File:  exp14_5.txt  n:  16384 batch_size:  512 (347, 60081, 303, 60815)\n",
      "File:  exp14_5.txt  n:  16384 batch_size:  1024 (335, 60880, 346, 61645)\n",
      "File:  exp14_5.txt  n:  16384 batch_size:  2048 (403, 56085, 397, 56975)\n",
      "File:  exp14_5.txt  n:  16384 batch_size:  4096 (356, 61541, 659, 62647)\n",
      "File:  exp14_6.txt  n:  16384 batch_size:  1 (286, 63172, 560, 64105)\n",
      "File:  exp14_6.txt  n:  16384 batch_size:  2 (345, 62079, 370, 62880)\n",
      "File:  exp14_6.txt  n:  16384 batch_size:  4 (407, 60964, 601, 62072)\n",
      "File:  exp14_6.txt  n:  16384 batch_size:  8 (318, 59606, 564, 60577)\n",
      "File:  exp14_6.txt  n:  16384 batch_size:  16 (342, 61118, 537, 62086)\n",
      "File:  exp14_6.txt  n:  16384 batch_size:  32 (318, 59206, 416, 60021)\n",
      "File:  exp14_6.txt  n:  16384 batch_size:  64 (304, 58818, 651, 59856)\n",
      "File:  exp14_6.txt  n:  16384 batch_size:  128 (313, 58747, 659, 59808)\n",
      "File:  exp14_6.txt  n:  16384 batch_size:  256 (322, 60392, 562, 61364)\n",
      "File:  exp14_6.txt  n:  16384 batch_size:  512 (313, 58794, 637, 59832)\n",
      "File:  exp14_6.txt  n:  16384 batch_size:  1024 (372, 57517, 303, 58282)\n",
      "File:  exp14_6.txt  n:  16384 batch_size:  2048 (345, 58631, 483, 59541)\n",
      "File:  exp14_6.txt  n:  16384 batch_size:  4096 (417, 59253, 495, 60248)\n",
      "File:  exp14_7.txt  n:  16384 batch_size:  1 (321, 58296, 628, 59331)\n",
      "File:  exp14_7.txt  n:  16384 batch_size:  2 (398, 58966, 536, 59988)\n",
      "File:  exp14_7.txt  n:  16384 batch_size:  4 (386, 59147, 445, 60065)\n",
      "File:  exp14_7.txt  n:  16384 batch_size:  8 (364, 58998, 624, 60077)\n",
      "File:  exp14_7.txt  n:  16384 batch_size:  16 (361, 59437, 565, 60453)\n",
      "File:  exp14_7.txt  n:  16384 batch_size:  32 (297, 58646, 542, 59566)\n",
      "File:  exp14_7.txt  n:  16384 batch_size:  64 (325, 59879, 317, 60608)\n",
      "File:  exp14_7.txt  n:  16384 batch_size:  128 (297, 57480, 633, 58500)\n",
      "File:  exp14_7.txt  n:  16384 batch_size:  256 (301, 57649, 461, 58502)\n",
      "File:  exp14_7.txt  n:  16384 batch_size:  512 (351, 57979, 638, 59060)\n",
      "File:  exp14_7.txt  n:  16384 batch_size:  1024 (324, 57697, 650, 58759)\n",
      "File:  exp14_7.txt  n:  16384 batch_size:  2048 (383, 57694, 267, 58430)\n",
      "File:  exp14_7.txt  n:  16384 batch_size:  4096 (415, 58734, 388, 59620)\n",
      "File:  exp14_8.txt  n:  16384 batch_size:  1 (278, 58941, 387, 59693)\n",
      "File:  exp14_8.txt  n:  16384 batch_size:  2 (308, 58765, 590, 59756)\n",
      "File:  exp14_8.txt  n:  16384 batch_size:  4 (383, 57826, 451, 58746)\n",
      "File:  exp14_8.txt  n:  16384 batch_size:  8 (414, 58021, 321, 58843)\n",
      "File:  exp14_8.txt  n:  16384 batch_size:  16 (368, 57362, 431, 58244)\n",
      "File:  exp14_8.txt  n:  16384 batch_size:  32 (309, 57384, 386, 58166)\n",
      "File:  exp14_8.txt  n:  16384 batch_size:  64 (365, 57725, 459, 58643)\n",
      "File:  exp14_8.txt  n:  16384 batch_size:  128 (315, 57189, 561, 58150)\n",
      "File:  exp14_8.txt  n:  16384 batch_size:  256 (401, 57376, 454, 58313)\n",
      "File:  exp14_8.txt  n:  16384 batch_size:  512 (308, 57755, 619, 58772)\n",
      "File:  exp14_8.txt  n:  16384 batch_size:  1024 (324, 56983, 322, 57717)\n",
      "File:  exp14_8.txt  n:  16384 batch_size:  2048 (345, 57314, 519, 58263)\n",
      "File:  exp14_8.txt  n:  16384 batch_size:  4096 (349, 57632, 375, 58441)\n",
      "File:  exp14_9.txt  n:  16384 batch_size:  1 (305, 64985, 445, 65826)\n",
      "File:  exp14_9.txt  n:  16384 batch_size:  2 (335, 61577, 417, 62423)\n",
      "File:  exp14_9.txt  n:  16384 batch_size:  4 (312, 60789, 469, 61660)\n",
      "File:  exp14_9.txt  n:  16384 batch_size:  8 (328, 61034, 626, 62070)\n",
      "File:  exp14_9.txt  n:  16384 batch_size:  16 (437, 60758, 358, 61643)\n",
      "File:  exp14_9.txt  n:  16384 batch_size:  32 (418, 65142, 374, 66017)\n",
      "File:  exp14_9.txt  n:  16384 batch_size:  64 (421, 61479, 565, 62548)\n",
      "File:  exp14_9.txt  n:  16384 batch_size:  128 (304, 59160, 549, 60107)\n",
      "File:  exp14_9.txt  n:  16384 batch_size:  256 (393, 59963, 603, 61051)\n",
      "File:  exp14_9.txt  n:  16384 batch_size:  512 (293, 59545, 351, 60282)\n",
      "File:  exp14_9.txt  n:  16384 batch_size:  1024 (336, 59710, 624, 60757)\n",
      "File:  exp14_9.txt  n:  16384 batch_size:  2048 (331, 58884, 565, 59865)\n",
      "File:  exp14_9.txt  n:  16384 batch_size:  4096 (319, 59328, 566, 60300)\n",
      "sum_results {8192: {1: (1922, 242344, 1318, 246471), 2: (2299, 238012, 1234, 242443), 4: (2114, 235230, 1269, 239512), 8: (2025, 234112, 1153, 238203), 16: (1970, 233801, 1209, 237870), 32: (2014, 234336, 1283, 238524), 64: (2101, 235775, 1223, 239993), 128: (2033, 233833, 1254, 238011), 256: (2071, 235300, 1262, 239520), 512: (2097, 234236, 1180, 238479), 1024: (2043, 234165, 1158, 238262), 2048: (2334, 231568, 1221, 236017), 4096: (2047, 232070, 1242, 236251)}, 16384: {1: (3040, 611882, 5076, 620859), 2: (3330, 597463, 4875, 606575), 4: (3789, 597224, 4688, 606599), 8: (3525, 598389, 4816, 607599), 16: (3752, 600429, 4594, 609662), 32: (3537, 596533, 4363, 605286), 64: (3539, 593098, 5351, 602869), 128: (3378, 586170, 5837, 596258), 256: (3399, 594678, 5155, 604106), 512: (3313, 592806, 5029, 602032), 1024: (3408, 590362, 4956, 599601), 2048: (3555, 587141, 4814, 596378), 4096: (3501, 594535, 5284, 604201)}}\n",
      "avg_results[8192] {1: [192.2, 24234.4, 131.8, 24647.1], 2: [229.9, 23801.2, 123.4, 24244.3], 4: [211.4, 23523.0, 126.9, 23951.2], 8: [202.5, 23411.2, 115.3, 23820.3], 16: [197.0, 23380.1, 120.9, 23787.0], 32: [201.4, 23433.6, 128.3, 23852.4], 64: [210.1, 23577.5, 122.3, 23999.3], 128: [203.3, 23383.3, 125.4, 23801.1], 256: [207.1, 23530.0, 126.2, 23952.0], 512: [209.7, 23423.6, 118.0, 23847.9], 1024: [204.3, 23416.5, 115.8, 23826.2], 2048: [233.4, 23156.8, 122.1, 23601.7], 4096: [204.7, 23207.0, 124.2, 23625.1]}\n",
      "avg_results[16384] {1: [304.0, 61188.2, 507.6, 62085.9], 2: [333.0, 59746.3, 487.5, 60657.5], 4: [378.9, 59722.4, 468.8, 60659.9], 8: [352.5, 59838.9, 481.6, 60759.9], 16: [375.2, 60042.9, 459.4, 60966.2], 32: [353.7, 59653.3, 436.3, 60528.6], 64: [353.9, 59309.8, 535.1, 60286.9], 128: [337.8, 58617.0, 583.7, 59625.8], 256: [339.9, 59467.8, 515.5, 60410.6], 512: [331.3, 59280.6, 502.9, 60203.2], 1024: [340.8, 59036.2, 495.6, 59960.1], 2048: [355.5, 58714.1, 481.4, 59637.8], 4096: [350.1, 59453.5, 528.4, 60420.1]}\n"
     ]
    }
   ],
   "source": [
    "all_results = []\n",
    "\n",
    "# Read exp_0.txt, exp_1.txt, ..., exp_9.txt\n",
    "file_names_13 = ['exp13_%s.txt' % i for i in range(10)]\n",
    "file_names_14 = ['exp14_%s.txt' % i for i in range(10)]\n",
    "file_names = file_names_13 + file_names_14\n",
    "for file_name in file_names:\n",
    "    results_from_file = parse_results_from_file(file_name)\n",
    "    all_results.extend(results_from_file)  \n",
    "\n",
    "batch_sizes = [2**n for n in range(13)]\n",
    "\n",
    "sum_results = {8192:{}, 16384:{}}\n",
    "for batch_size in batch_sizes:\n",
    "    sum_results[8192][batch_size] = (0, 0, 0, 0)\n",
    "    sum_results[16384][batch_size] = (0, 0, 0, 0)\n",
    "\n",
    "for result in all_results:\n",
    "    n = result[0]\n",
    "    batch_size = result[1]\n",
    "    sum_results[n][batch_size] = tuple(map(sum, zip(sum_results[n][batch_size], result[2:])))    \n",
    "    \n",
    "print('sum_results', sum_results)    \n",
    "\n",
    "avg_results = {8192:{}, 16384:{}}\n",
    "for batch_size in batch_sizes:\n",
    "    avg_results[8192][batch_size] = [float(x) / len(file_names_13) for x in sum_results[8192][batch_size]]\n",
    "    avg_results[16384][batch_size] = [float(x) / len(file_names_14) for x in sum_results[16384][batch_size]]\n",
    "\n",
    "print('avg_results[8192]', avg_results[8192])\n",
    "print('avg_results[16384]', avg_results[16384])"
   ]
  },
  {
   "cell_type": "markdown",
   "metadata": {},
   "source": [
    "# Figure 5: SIMD"
   ]
  },
  {
   "cell_type": "code",
   "execution_count": 371,
   "metadata": {},
   "outputs": [
    {
     "data": {
      "image/png": "[encoded data removed]",
      "text/plain": [
       "<Figure size 576x216 with 4 Axes>"
      ]
     },
     "metadata": {
      "needs_background": "light"
     },
     "output_type": "display_data"
    }
   ],
   "source": [
    "batch_sizes = [2**n for n in range(13)]\n",
    "\n",
    "N13_encryption = [avg_results[8192][bs][0]/1000. for bs in batch_sizes]\n",
    "N14_encryption = [avg_results[16384][bs][0]/1000. for bs in batch_sizes]\n",
    "N13_execution = [avg_results[8192][bs][1]/1000. for bs in batch_sizes]\n",
    "N14_execution = [avg_results[16384][bs][1]/1000. for bs in batch_sizes]\n",
    "N13_decryption = [avg_results[8192][bs][2]/1000. for bs in batch_sizes]\n",
    "N14_decryption = [avg_results[16384][bs][2]/1000. for bs in batch_sizes]\n",
    "N13_total = [avg_results[8192][bs][3]/1000. for bs in batch_sizes]\n",
    "N14_total = [avg_results[16384][bs][3]/1000. for bs in batch_sizes]\n",
    "\n",
    "fig, axarr = plt.subplots(2, 2, figsize=(8,3))\n",
    "\n",
    "#fig, ax = plt.subplots()\n",
    "ax = axarr[0,0]\n",
    "ax.plot(batch_sizes, N13_encryption, marker='.', color='b', label=r'$N=2^{13}$')\n",
    "# ax.errorbar(batch_sizes, sw_encrypt_input_means_13, yerr=sw_encrypt_input_stds_13, fmt='o', color='b')\n",
    "ax.plot(batch_sizes, N14_encryption, marker='.', color='r', label=r'$N=2^{14}$')\n",
    "# ax.errorbar(batch_sizes, sw_encrypt_input_means_14, yerr=sw_encrypt_input_stds_14, fmt='o', color='r')\n",
    "ax.set_xscale('log', basex=2)\n",
    "ax.xaxis.set_major_formatter(ScalarFormatter())\n",
    "ax.set_title(\"Input Encryption\", fontsize=8)\n",
    "plt.xticks(batch_sizes)\n",
    "ax.set_xticks(batch_sizes)\n",
    "ax.set_xlabel(\"batch size\", fontsize=6)\n",
    "ax.set_ylabel(\"runtime (sec)\", fontsize=6)\n",
    "ax.set_ylim((0, 1))\n",
    "ax.tick_params(axis='both', which='major', labelsize=6)\n",
    "ax.legend(loc='upper right', prop={'size': 6})\n",
    "\n",
    "#fig, ax = plt.subplots()\n",
    "ax = axarr[0,1]\n",
    "ax.plot(batch_sizes, N13_execution, marker='.', color='b', label=r'$N=2^{13}$')\n",
    "# ax.errorbar(batch_sizes, sw_run_model_means_13, yerr=sw_run_model_stds_13, fmt='o', color='b')\n",
    "ax.plot(batch_sizes, N14_execution, marker='.', color='r', label=r'$N=2^{14}$')\n",
    "# ax.errorbar(batch_sizes, sw_run_model_means_14, yerr=sw_run_model_stds_14, fmt='o', color='r')\n",
    "ax.set_xscale('log', basex=2)\n",
    "ax.xaxis.set_major_formatter(ScalarFormatter())\n",
    "ax.set_title(\"Model Execution\", fontsize=8)\n",
    "plt.xticks(batch_sizes)\n",
    "ax.set_xticks(batch_sizes)\n",
    "ax.set_xlabel(\"batch size\", fontsize=6)\n",
    "ax.set_ylabel(\"runtime (sec)\", fontsize=6)\n",
    "ax.set_ylim((0, 110))\n",
    "ax.tick_params(axis='both', which='major', labelsize=6)\n",
    "ax.legend(prop={'size': 8})\n",
    "ax.legend(loc='upper right', prop={'size': 6})\n",
    "\n",
    "#fig, ax = plt.subplots()\n",
    "ax = axarr[1, 0]\n",
    "ax.plot(batch_sizes, N13_decryption, marker='.', color='b', label=r'$N=2^{13}$')\n",
    "# ax.errorbar(batch_sizes, sw_decrypt_output_means_13, yerr=sw_decrypt_output_stds_13, fmt='o', color='b')\n",
    "ax.plot(batch_sizes, N14_decryption, marker='.', color='r', label=r'$N=2^{14}$')\n",
    "# ax.errorbar(batch_sizes, sw_decrypt_output_means_14, yerr=sw_decrypt_output_stds_14, fmt='o', color='r')\n",
    "ax.set_xscale('log', basex=2)\n",
    "ax.xaxis.set_major_formatter(ScalarFormatter())\n",
    "ax.set_title(\"Output Decryption\", fontsize=8)\n",
    "plt.xticks(batch_sizes)\n",
    "ax.set_xticks(batch_sizes)\n",
    "ax.set_xlabel(\"batch size\", fontsize=6)\n",
    "ax.set_ylabel(\"runtime (sec)\", fontsize=6)\n",
    "ax.set_ylim((0, 1))\n",
    "ax.tick_params(axis='both', which='major', labelsize=6)\n",
    "ax.legend(prop={'size': 8})\n",
    "ax.legend(loc='upper right', prop={'size': 6})\n",
    "\n",
    "ax = axarr[1,1]\n",
    "#fig, ax = plt.subplots()\n",
    "ax.plot(batch_sizes, N13_total, marker='.', color='b', label=r'$N=2^{13}$')\n",
    "# ax.errorbar(batch_sizes, sw_ec_run_dc_means_13, yerr=sw_ec_run_dc_stds_13, fmt='o', color='b')\n",
    "ax.plot(batch_sizes, N14_total, marker='.', color='r', label=r'$N=2^{14}$')\n",
    "# ax.errorbar(batch_sizes, sw_ec_run_dc_means_14, yerr=sw_ec_run_dc_stds_14, fmt='o', color='r')\n",
    "ax.set_xscale('log', basex=2)\n",
    "ax.xaxis.set_major_formatter(ScalarFormatter())\n",
    "ax.set_title(\"Total Runtime\", fontsize=8)\n",
    "ax.set_xticks(batch_sizes)\n",
    "ax.set_xlabel(\"batch size\", fontsize=6)\n",
    "ax.set_ylabel(\"runtime (sec)\", fontsize=6)\n",
    "ax.set_ylim((0, 110))\n",
    "ax.tick_params(axis='both', which='major', labelsize=6)\n",
    "ax.legend(loc='upper right', prop={'size': 6})\n",
    "\n",
    "fig.subplots_adjust(hspace=0.6, wspace=0.2)\n",
    "\n",
    "plt.savefig('Figure5.png', dpi=300, bbox_inches='tight')\n",
    "plt.show()\n"
   ]
  },
  {
   "cell_type": "markdown",
   "metadata": {},
   "source": [
    "# Table 1"
   ]
  },
  {
   "cell_type": "markdown",
   "metadata": {},
   "source": [
    "## C++"
   ]
  },
  {
   "cell_type": "code",
   "execution_count": 463,
   "metadata": {
    "scrolled": true
   },
   "outputs": [
    {
     "name": "stdout",
     "output_type": "stream",
     "text": [
      "[24.358, 23.696, 24.165, 25.386, 25.802, 24.338, 23.881, 23.944, 25.134, 25.767]\n",
      "[61.712, 58.852, 69.219, 60.37, 59.619, 62.132, 64.105, 59.331, 59.693, 65.826]\n"
     ]
    }
   ],
   "source": [
    "n13_cpp_times = []\n",
    "n14_cpp_times = []\n",
    "for result in all_results:\n",
    "    n = result[0]\n",
    "    batch_size = result[1]\n",
    "    if batch_size != 1:\n",
    "        continue\n",
    "        \n",
    "    encrypt_input = result[2] / 1000.\n",
    "    run_model = result[3] / 1000.\n",
    "    decrypt_output = result[4] / 1000.\n",
    "    total_runtime = result[5]/1000.\n",
    "    \n",
    "    if n == 8192:\n",
    "        n13_cpp_times.append(total_runtime)\n",
    "    elif n == 16384:\n",
    "        n14_cpp_times.append(total_runtime)\n",
    "\n",
    "print(n13_cpp_times)\n",
    "print(n14_cpp_times)"
   ]
  },
  {
   "cell_type": "markdown",
   "metadata": {},
   "source": [
    "## Python"
   ]
  },
  {
   "cell_type": "code",
   "execution_count": 505,
   "metadata": {},
   "outputs": [],
   "source": [
    "# See Table1_python_results.txt\n",
    "# Runtime Create new session each time.\n",
    "# In test.py, the runtime is computed as \n",
    "'''\n",
    "    with tf.Session() as sess:\n",
    "        start_time = time.time()\n",
    "        x_test = mnist.test.images[:FLAGS.batch_size]\n",
    "        y_test = mnist.test.labels[:FLAGS.batch_size]\n",
    "\n",
    "        # Run model - Warmup\n",
    "        print('Starting timer')\n",
    "        start_time = time.time()\n",
    "        y_conv_val = y_conv.eval(feed_dict={x: x_test, y_: y_test})\n",
    "        elasped_time = time.time() - start_time\n",
    "        print(\"total time trial warmup:\", elasped_time)\n",
    "\n",
    "    with tf.Session() as sess:\n",
    "        start_time = time.time()\n",
    "        x_test = mnist.test.images[:FLAGS.batch_size]\n",
    "        y_test = mnist.test.labels[:FLAGS.batch_size]\n",
    "\n",
    "        print('Starting timer')\n",
    "        start_time = time.time()\n",
    "        y_conv_val = y_conv.eval(feed_dict={x: x_test, y_: y_test})\n",
    "        elasped_time = time.time() - start_time\n",
    "        print(\"total time trial 1:\", elasped_time)\n",
    "\n",
    "    with tf.Session() as sess:\n",
    "        start_time = time.time()\n",
    "        x_test = mnist.test.images[:FLAGS.batch_size]\n",
    "        y_test = mnist.test.labels[:FLAGS.batch_size]\n",
    "\n",
    "        y_conv_val = y_conv.eval(feed_dict={x: x_test, y_: y_test})\n",
    "        elasped_time = time.time() - start_time\n",
    "        print(\"total time trial 2\", elasped_time)\n",
    "        \n",
    "    ...\n",
    "'''\n",
    "n13_python_times = [26.440752029418945, 24.769620418548584, 25.00372052192688, 25.321682929992676, 25.105860471725464, 25.402276039123535, 25.814411878585815, 25.372902393341064, 25.86433482170105, 25.673946857452393]\n",
    "n14_python_times = [63.33899259567261, 65.20616507530212, 69.921550989151, 68.00379490852356, 64.83261942863464, 63.13576126098633, 62.26738619804382, 64.7960352897644, 60.75320792198181, 59.95687913894653]"
   ]
  },
  {
   "cell_type": "code",
   "execution_count": 510,
   "metadata": {},
   "outputs": [
    {
     "name": "stdout",
     "output_type": "stream",
     "text": [
      "Python n=2^13:  25.48 $\\pm$ 0.46\n",
      "C++    n=2^13:  24.65 $\\pm$ 0.76\n"
     ]
    }
   ],
   "source": [
    "print('Python n=2^13: ', np.round(np.mean(n13_python_times), 2), '$\\\\pm$', np.round(np.std(n13_python_times),2))\n",
    "print('C++    n=2^13: ', np.round(np.mean(n13_cpp_times), 2), '$\\\\pm$', np.round(np.std(n13_cpp_times),2))"
   ]
  },
  {
   "cell_type": "code",
   "execution_count": 507,
   "metadata": {},
   "outputs": [
    {
     "data": {
      "image/png": "[encoded data removed]",
      "text/plain": [
       "<Figure size 432x288 with 1 Axes>"
      ]
     },
     "metadata": {
      "needs_background": "light"
     },
     "output_type": "display_data"
    }
   ],
   "source": [
    "plt.plot(sorted(n13_cpp_times), label='c++')\n",
    "plt.plot(sorted(n13_python_times), label='python')\n",
    "plt.legend()\n",
    "plt.show()"
   ]
  },
  {
   "cell_type": "code",
   "execution_count": 511,
   "metadata": {},
   "outputs": [
    {
     "name": "stdout",
     "output_type": "stream",
     "text": [
      "Python n=2^14:  64.22 $\\pm$ 2.91\n",
      "C++    n=2^14:  62.09 $\\pm$ 3.19\n"
     ]
    }
   ],
   "source": [
    "print('Python n=2^14: ', np.round(np.mean(n14_python_times), 2), '$\\\\pm$', np.round(np.std(n14_python_times),2))\n",
    "print('C++    n=2^14: ', np.round(np.mean(n14_cpp_times), 2), '$\\\\pm$', np.round(np.std(n14_cpp_times),2))"
   ]
  },
  {
   "cell_type": "code",
   "execution_count": 509,
   "metadata": {},
   "outputs": [
    {
     "data": {
      "image/png": "[encoded data removed]",
      "text/plain": [
       "<Figure size 432x288 with 1 Axes>"
      ]
     },
     "metadata": {
      "needs_background": "light"
     },
     "output_type": "display_data"
    }
   ],
   "source": [
    "plt.plot(sorted(n14_cpp_times), label='c++')\n",
    "plt.plot(sorted(n14_python_times), label='python')\n",
    "plt.legend()\n",
    "plt.show()"
   ]
  },
  {
   "cell_type": "code",
   "execution_count": 518,
   "metadata": {},
   "outputs": [
    {
     "data": {
      "text/plain": [
       "3.4393304771303694"
      ]
     },
     "execution_count": 518,
     "metadata": {},
     "output_type": "execute_result"
    }
   ],
   "source": [
    "(np.mean(n14_python_times) - np.mean(n14_cpp_times)) / np.mean(n14_cpp_times) * 100"
   ]
  },
  {
   "cell_type": "code",
   "execution_count": 517,
   "metadata": {},
   "outputs": [
    {
     "data": {
      "text/plain": [
       "3.366930941902447"
      ]
     },
     "execution_count": 517,
     "metadata": {},
     "output_type": "execute_result"
    }
   ],
   "source": [
    "(np.mean(n13_python_times) - np.mean(n13_cpp_times)) / np.mean(n13_cpp_times) * 100"
   ]
  },
  {
   "cell_type": "code",
   "execution_count": null,
   "metadata": {},
   "outputs": [],
   "source": []
  }
 ],
 "metadata": {
  "kernelspec": {
   "display_name": "Python 3",
   "language": "python",
   "name": "python3"
  },
  "language_info": {
   "codemirror_mode": {
    "name": "ipython",
    "version": 3
   },
   "file_extension": ".py",
   "mimetype": "text/x-python",
   "name": "python",
   "nbconvert_exporter": "python",
   "pygments_lexer": "ipython3",
   "version": "3.7.1"
  }
 },
 "nbformat": 4,
 "nbformat_minor": 2
}
